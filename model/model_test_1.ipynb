{
 "cells": [
  {
   "cell_type": "code",
   "execution_count": 2,
   "metadata": {},
   "outputs": [],
   "source": [
    "import numpy as np\n",
    "import pandas as pd\n",
    "import transformers\n",
    "import torch\n",
    "from transformers import BertTokenizer,BertModel\n",
    "from sklearn.metrics.pairwise import cosine_similarity\n",
    "from nltk.corpus import stopwords\n",
    "from nltk.tokenize import word_tokenize\n",
    "from sentence_transformers import SentenceTransformer\n",
    "from sentence_transformers import evaluation\n",
    "from math import floor, log10\n",
    "from sklearn.metrics import mean_squared_error"
   ]
  },
  {
   "cell_type": "code",
   "execution_count": 3,
   "metadata": {},
   "outputs": [],
   "source": [
    "df=pd.read_csv(\"ds.csv\")"
   ]
  },
  {
   "cell_type": "code",
   "execution_count": 4,
   "metadata": {},
   "outputs": [
    {
     "data": {
      "text/html": [
       "<div>\n",
       "<style scoped>\n",
       "    .dataframe tbody tr th:only-of-type {\n",
       "        vertical-align: middle;\n",
       "    }\n",
       "\n",
       "    .dataframe tbody tr th {\n",
       "        vertical-align: top;\n",
       "    }\n",
       "\n",
       "    .dataframe thead th {\n",
       "        text-align: right;\n",
       "    }\n",
       "</style>\n",
       "<table border=\"1\" class=\"dataframe\">\n",
       "  <thead>\n",
       "    <tr style=\"text-align: right;\">\n",
       "      <th></th>\n",
       "      <th>id</th>\n",
       "      <th>question</th>\n",
       "      <th>desired_answer</th>\n",
       "      <th>student_answer</th>\n",
       "      <th>score_me</th>\n",
       "      <th>score_other</th>\n",
       "      <th>score_avg</th>\n",
       "    </tr>\n",
       "  </thead>\n",
       "  <tbody>\n",
       "    <tr>\n",
       "      <th>0</th>\n",
       "      <td>1.10</td>\n",
       "      <td>What is the role of a prototype program in pro...</td>\n",
       "      <td>To simulate the behaviour of portions of the d...</td>\n",
       "      <td>High risk problems are address in the prototyp...</td>\n",
       "      <td>4.0</td>\n",
       "      <td>3.00</td>\n",
       "      <td>3.500</td>\n",
       "    </tr>\n",
       "    <tr>\n",
       "      <th>1</th>\n",
       "      <td>1.10</td>\n",
       "      <td>What is the role of a prototype program in pro...</td>\n",
       "      <td>To simulate the behaviour of portions of the d...</td>\n",
       "      <td>To simulate portions of the desired final prod...</td>\n",
       "      <td>5.0</td>\n",
       "      <td>5.00</td>\n",
       "      <td>5.000</td>\n",
       "    </tr>\n",
       "    <tr>\n",
       "      <th>2</th>\n",
       "      <td>1.10</td>\n",
       "      <td>What is the role of a prototype program in pro...</td>\n",
       "      <td>To simulate the behaviour of portions of the d...</td>\n",
       "      <td>A prototype program simulates the behaviors of...</td>\n",
       "      <td>5.0</td>\n",
       "      <td>3.00</td>\n",
       "      <td>4.000</td>\n",
       "    </tr>\n",
       "    <tr>\n",
       "      <th>3</th>\n",
       "      <td>1.10</td>\n",
       "      <td>What is the role of a prototype program in pro...</td>\n",
       "      <td>To simulate the behaviour of portions of the d...</td>\n",
       "      <td>Defined in the Specification phase a prototype...</td>\n",
       "      <td>5.0</td>\n",
       "      <td>5.00</td>\n",
       "      <td>5.000</td>\n",
       "    </tr>\n",
       "    <tr>\n",
       "      <th>4</th>\n",
       "      <td>1.10</td>\n",
       "      <td>What is the role of a prototype program in pro...</td>\n",
       "      <td>To simulate the behaviour of portions of the d...</td>\n",
       "      <td>It is used to let the users have a first idea ...</td>\n",
       "      <td>3.0</td>\n",
       "      <td>3.00</td>\n",
       "      <td>3.000</td>\n",
       "    </tr>\n",
       "    <tr>\n",
       "      <th>...</th>\n",
       "      <td>...</td>\n",
       "      <td>...</td>\n",
       "      <td>...</td>\n",
       "      <td>...</td>\n",
       "      <td>...</td>\n",
       "      <td>...</td>\n",
       "      <td>...</td>\n",
       "    </tr>\n",
       "    <tr>\n",
       "      <th>2268</th>\n",
       "      <td>12.11</td>\n",
       "      <td>How many steps does it take to search a node i...</td>\n",
       "      <td>The height of the tree.</td>\n",
       "      <td>log n</td>\n",
       "      <td>4.5</td>\n",
       "      <td>5.00</td>\n",
       "      <td>4.750</td>\n",
       "    </tr>\n",
       "    <tr>\n",
       "      <th>2269</th>\n",
       "      <td>12.11</td>\n",
       "      <td>How many steps does it take to search a node i...</td>\n",
       "      <td>The height of the tree.</td>\n",
       "      <td>( n(n-1) ) / 2</td>\n",
       "      <td>0.0</td>\n",
       "      <td>3.00</td>\n",
       "      <td>1.500</td>\n",
       "    </tr>\n",
       "    <tr>\n",
       "      <th>2270</th>\n",
       "      <td>12.11</td>\n",
       "      <td>How many steps does it take to search a node i...</td>\n",
       "      <td>The height of the tree.</td>\n",
       "      <td>2n-1</td>\n",
       "      <td>0.0</td>\n",
       "      <td>4.75</td>\n",
       "      <td>2.375</td>\n",
       "    </tr>\n",
       "    <tr>\n",
       "      <th>2271</th>\n",
       "      <td>12.11</td>\n",
       "      <td>How many steps does it take to search a node i...</td>\n",
       "      <td>The height of the tree.</td>\n",
       "      <td>it takes at most h steps, where h is the heigh...</td>\n",
       "      <td>5.0</td>\n",
       "      <td>5.00</td>\n",
       "      <td>5.000</td>\n",
       "    </tr>\n",
       "    <tr>\n",
       "      <th>2272</th>\n",
       "      <td>12.11</td>\n",
       "      <td>How many steps does it take to search a node i...</td>\n",
       "      <td>The height of the tree.</td>\n",
       "      <td>it depends on the install search tree then fro...</td>\n",
       "      <td>0.0</td>\n",
       "      <td>3.00</td>\n",
       "      <td>1.500</td>\n",
       "    </tr>\n",
       "  </tbody>\n",
       "</table>\n",
       "<p>2273 rows × 7 columns</p>\n",
       "</div>"
      ],
      "text/plain": [
       "         id                                           question  \\\n",
       "0      1.10  What is the role of a prototype program in pro...   \n",
       "1      1.10  What is the role of a prototype program in pro...   \n",
       "2      1.10  What is the role of a prototype program in pro...   \n",
       "3      1.10  What is the role of a prototype program in pro...   \n",
       "4      1.10  What is the role of a prototype program in pro...   \n",
       "...     ...                                                ...   \n",
       "2268  12.11  How many steps does it take to search a node i...   \n",
       "2269  12.11  How many steps does it take to search a node i...   \n",
       "2270  12.11  How many steps does it take to search a node i...   \n",
       "2271  12.11  How many steps does it take to search a node i...   \n",
       "2272  12.11  How many steps does it take to search a node i...   \n",
       "\n",
       "                                         desired_answer  \\\n",
       "0     To simulate the behaviour of portions of the d...   \n",
       "1     To simulate the behaviour of portions of the d...   \n",
       "2     To simulate the behaviour of portions of the d...   \n",
       "3     To simulate the behaviour of portions of the d...   \n",
       "4     To simulate the behaviour of portions of the d...   \n",
       "...                                                 ...   \n",
       "2268                            The height of the tree.   \n",
       "2269                            The height of the tree.   \n",
       "2270                            The height of the tree.   \n",
       "2271                            The height of the tree.   \n",
       "2272                            The height of the tree.   \n",
       "\n",
       "                                         student_answer  score_me  \\\n",
       "0     High risk problems are address in the prototyp...       4.0   \n",
       "1     To simulate portions of the desired final prod...       5.0   \n",
       "2     A prototype program simulates the behaviors of...       5.0   \n",
       "3     Defined in the Specification phase a prototype...       5.0   \n",
       "4     It is used to let the users have a first idea ...       3.0   \n",
       "...                                                 ...       ...   \n",
       "2268                                              log n       4.5   \n",
       "2269                                     ( n(n-1) ) / 2       0.0   \n",
       "2270                                               2n-1       0.0   \n",
       "2271  it takes at most h steps, where h is the heigh...       5.0   \n",
       "2272  it depends on the install search tree then fro...       0.0   \n",
       "\n",
       "      score_other  score_avg  \n",
       "0            3.00      3.500  \n",
       "1            5.00      5.000  \n",
       "2            3.00      4.000  \n",
       "3            5.00      5.000  \n",
       "4            3.00      3.000  \n",
       "...           ...        ...  \n",
       "2268         5.00      4.750  \n",
       "2269         3.00      1.500  \n",
       "2270         4.75      2.375  \n",
       "2271         5.00      5.000  \n",
       "2272         3.00      1.500  \n",
       "\n",
       "[2273 rows x 7 columns]"
      ]
     },
     "execution_count": 4,
     "metadata": {},
     "output_type": "execute_result"
    }
   ],
   "source": [
    "df"
   ]
  },
  {
   "cell_type": "code",
   "execution_count": 5,
   "metadata": {},
   "outputs": [],
   "source": [
    "bert_base = SentenceTransformer('bert-base-nli-mean-tokens')\n",
    "tokenizer = BertTokenizer.from_pretrained('bert-base-uncased')"
   ]
  },
  {
   "cell_type": "code",
   "execution_count": 6,
   "metadata": {},
   "outputs": [
    {
     "data": {
      "text/plain": [
       "<bound method Module.named_parameters of SentenceTransformer(\n",
       "  (0): Transformer({'max_seq_length': 128, 'do_lower_case': False}) with Transformer model: BertModel \n",
       "  (1): Pooling({'word_embedding_dimension': 768, 'pooling_mode_cls_token': False, 'pooling_mode_mean_tokens': True, 'pooling_mode_max_tokens': False, 'pooling_mode_mean_sqrt_len_tokens': False})\n",
       ")>"
      ]
     },
     "execution_count": 6,
     "metadata": {},
     "output_type": "execute_result"
    }
   ],
   "source": [
    "bert_base.named_parameters"
   ]
  },
  {
   "cell_type": "code",
   "execution_count": 7,
   "metadata": {},
   "outputs": [
    {
     "name": "stdout",
     "output_type": "stream",
     "text": [
      "[101, 2000, 26633, 1996, 9164, 1997, 8810, 1997, 1996, 9059, 4007, 4031, 1012, 102]\n"
     ]
    }
   ],
   "source": [
    "student_answers_tk = df['student_answer'].to_list()\n",
    "ref_answers_tk=df['desired_answer'].to_list()\n",
    "enc_ref_ans=[]\n",
    "enc_stud_ans=[]\n",
    "# \"[CLS] \" + text + \" [SEP]\"\n",
    "\n",
    "for i,j in zip(student_answers_tk,ref_answers_tk):\n",
    "    enc_stud_ans.append(tokenizer.encode(i))\n",
    "    enc_ref_ans.append(tokenizer.encode(j))\n",
    "print(enc_ref_ans[0])\n",
    "# CLS=101 SEP=102"
   ]
  },
  {
   "cell_type": "code",
   "execution_count": 8,
   "metadata": {},
   "outputs": [
    {
     "data": {
      "text/plain": [
       "['[UNK]',\n",
       " '[CLS]',\n",
       " '[SEP]',\n",
       " '[MASK]',\n",
       " '[unused99]',\n",
       " '[unused100]',\n",
       " '[unused101]',\n",
       " '[unused102]',\n",
       " '[unused103]',\n",
       " '[unused104]',\n",
       " '[unused105]',\n",
       " '[unused106]',\n",
       " '[unused107]',\n",
       " '[unused108]',\n",
       " '[unused109]',\n",
       " '[unused110]',\n",
       " '[unused111]',\n",
       " '[unused112]',\n",
       " '[unused113]',\n",
       " '[unused114]',\n",
       " '[unused115]',\n",
       " '[unused116]',\n",
       " '[unused117]',\n",
       " '[unused118]',\n",
       " '[unused119]',\n",
       " '[unused120]',\n",
       " '[unused121]',\n",
       " '[unused122]',\n",
       " '[unused123]',\n",
       " '[unused124]',\n",
       " '[unused125]',\n",
       " '[unused126]',\n",
       " '[unused127]',\n",
       " '[unused128]',\n",
       " '[unused129]',\n",
       " '[unused130]',\n",
       " '[unused131]',\n",
       " '[unused132]',\n",
       " '[unused133]',\n",
       " '[unused134]',\n",
       " '[unused135]',\n",
       " '[unused136]',\n",
       " '[unused137]',\n",
       " '[unused138]',\n",
       " '[unused139]',\n",
       " '[unused140]',\n",
       " '[unused141]',\n",
       " '[unused142]',\n",
       " '[unused143]',\n",
       " '[unused144]']"
      ]
     },
     "execution_count": 8,
     "metadata": {},
     "output_type": "execute_result"
    }
   ],
   "source": [
    "list(tokenizer.vocab.keys())[100:150]"
   ]
  },
  {
   "cell_type": "code",
   "execution_count": 9,
   "metadata": {},
   "outputs": [],
   "source": [
    "tokenizer = BertTokenizer.from_pretrained('bert-base-uncased')\n",
    "student_answers_tk = df['student_answer'].to_list()\n",
    "ref_answers_tk=df['desired_answer'].to_list()\n",
    "enc_ref_ans=[]\n",
    "enc_stud_ans=[]\n",
    "for i,j in zip(student_answers_tk,ref_answers_tk):\n",
    "    enc_stud_ans.append(tokenizer.encode(i))\n",
    "    enc_ref_ans.append(tokenizer.encode(j))"
   ]
  },
  {
   "cell_type": "code",
   "execution_count": 10,
   "metadata": {},
   "outputs": [],
   "source": [
    "bert_base = SentenceTransformer('bert-base-nli-mean-tokens')\n",
    "\n",
    "df = pd.read_csv('ds.csv')\n",
    "\n",
    "\n",
    "student_answers = df['student_answer'].to_list()\n",
    "ref_answers=df['desired_answer'].to_list()\n",
    "scores_average=df['score_avg'].to_list()\n",
    "pred_scores=[]\n",
    "sim_arr=[]\n",
    "\n",
    "for i,j in zip(ref_answers,student_answers):\n",
    "    embed_array=[]\n",
    "    embed_array.append(i)\n",
    "    embed_array.append(j)\n",
    "    embed_array_res=bert_base.encode(embed_array)\n",
    "\n",
    "    res=cosine_similarity([embed_array_res[0]],embed_array_res[1:])[0][0]\n",
    "    sim_arr.append(res)\n",
    "    pred_scores.append(res*5)"
   ]
  },
  {
   "cell_type": "code",
   "execution_count": 11,
   "metadata": {},
   "outputs": [
    {
     "name": "stdout",
     "output_type": "stream",
     "text": [
      "[3.5, 3.5, 4.0, 4.0, 3.5, 3.5, 2.0, 3.0, 2.0, 3.5, 4.5, 5.0, 3.0, 4.0, 3.5, 4.0, 5.0, 3.0, 3.0, 3.0, 5.0, 5.0, 4.0, 3.0, 5.0, 4.0, 2.5, 3.5, 2.5, 3.0, 3.0, 3.5, 3.5, 3.5, 3.5, 2.5, 3.0, 1.5, 3.0, 2.0, 3.0, 2.5, 2.0, 3.5, 2.5, 3.0, 2.5, 2.5, 2.5, 2.5, 3.0, 2.5, 2.5, 3.0, 3.0, 3.0, 2.5, 3.5, 1.5, 1.5, 2.5, 2.5, 2.5, 2.5, 3.0, 2.0, 3.0, 3.0, 2.0, 2.5, 2.5, 3.0, 2.5, 1.5, 2.5, 2.5, 2.0, 2.0, 2.5, 2.5, 2.5, 2.5, 2.5, 2.5, 2.5, 2.5, 1.5, 4.5, 4.5, 3.0, 3.0, 4.5, 4.0, 4.5, 3.5, 3.0, 4.0, 4.0, 4.5, 3.5, 4.5, 3.0, 4.5, 4.5, 4.5, 4.5, 3.0, 4.5, 4.0, 3.0, 4.5, 3.0, 3.5, 3.0, 4.5, 4.5, 3.0, 3.0, 4.5, 4.0, 3.5, 3.5, 3.0, 3.5, 2.5, 4.0, 4.0, 4.5, 3.5, 4.5, 3.5, 3.5, 3.5, 3.0, 4.0, 3.0, 4.5, 4.5, 4.0, 4.5, 4.5, 3.5, 3.5, 4.5, 3.5, 2.0, 3.0, 3.5, 4.0, 3.0, 2.0, 3.0, 3.5, 2.5, 4.0, 3.0, 2.5, 2.0, 3.5, 3.0, 3.0, 1.5, 4.0, 3.0, 4.0, 1.5, 2.5, 4.0, 3.5, 4.0, 3.5, 3.0, 3.0, 3.0, 3.0, 3.0, 3.0, 3.0, 2.0, 3.0, 3.0, 3.5, 2.5, 3.0, 3.5, 4.0, 3.5, 2.5, 3.0, 3.5, 3.0, 3.5, 3.5, 3.0, 3.5, 3.5, 3.0, 2.5, 3.0, 1.0, 2.5, 3.0, 2.5, 2.0, 3.0, 3.5, 4.0, 4.0, 3.0, 5.0, 4.0, 5.0, 4.0, 4.0, 2.5, 2.0, 4.0, 3.5, 4.0, 3.5, 5.0, 2.5, 4.0, 5.0, 5.0, 4.0, 4.0, 2.5, 5.0, 4.5, 4.0, 3.5, 4.0, 2.5, 3.0, 4.0, 3.5, 4.0, 4.0, 4.0, 3.5, 3.0, 3.5, 3.5, 4.0, 3.5, 4.0, 3.5, 4.5, 2.5, 4.5, 4.5, 4.5, 3.0, 3.0, 3.5, 4.5, 4.0, 3.0, 3.5, 4.5, 4.5, 4.5, 3.0, 3.5, 4.0, 4.0, 3.5, 3.0, 3.5, 3.0, 4.0, 3.0, 3.0, 3.5, 3.5, 3.5, 4.0, 4.0, 3.5, 3.0, 3.0, 3.0, 3.0, 4.5, 4.0, 3.0, 3.5, 4.0, 3.0, 3.0, 3.0, 4.0, 4.5, 2.0, 4.0, 4.0, 4.0, 3.0, 3.0, 2.0, 4.5, 3.5, 2.5, 3.0, 2.5, 4.0, 4.0, 4.0, 3.0, 3.5, 3.5, 4.0, 3.5, 4.0, 3.5, 4.0, 4.0, 4.0, 2.5, 3.5, 3.5, 3.5, 2.0, 2.5, 2.5, 1.0, 1.5, 3.5, 4.0, 3.5, 2.0, 4.0, 3.0, 3.5, 3.5, 2.5, 1.5, 1.5, 3.5, 4.0, 3.5, 3.0, 3.5, 3.5, 2.5, 1.0, 3.5, 3.0, 2.5, 3.5, 3.0, 3.5, 2.5, 3.5, 3.5, 3.5, 4.5, 4.0, 3.5, 4.0, 4.5, 3.0, 4.0, 2.5, 4.0, 4.5, 4.0, 3.5, 4.0, 3.0, 4.0, 4.5, 4.0, 4.0, 3.5, 4.5, 4.5, 4.5, 4.0, 3.5, 4.0, 2.5, 3.5, 3.5, 4.0, 0.5, 3.5, 4.0, 2.0, 4.5, 3.0, 4.0, 4.0, 3.0, 4.5, 3.0, 3.0, 4.0, 1.5, 3.5, 3.0, 4.0, 3.0, 4.0, 4.5, 4.0, 4.0, 4.0, 2.5, 4.0, 4.5, 2.5, 3.5, 4.0, 4.5, 4.0, 4.5, 4.0, 3.0, 4.5, 2.5, 4.5, 4.5, 4.5, 5.0, 4.5, 4.5, 2.5, 3.0, 4.5, 4.5, 4.5, 4.5, 4.5, 4.5, 4.5, 4.5, 4.5, 5.0, 4.5, 4.5, 4.5, 3.0, 2.5, 2.5, 4.0, 2.5, 3.0, 2.5, 2.5, 3.0, 3.5, 2.5, 3.5, 5.0, 2.5, 2.5, 4.0, 3.5, 2.5, 2.5, 3.0, 3.0, 4.0, 3.0, 3.0, 3.0, 3.5, 3.5, 3.0, 5.0, 3.5, 3.0, 2.0, 3.5, 3.5, 2.0, 2.0, 3.0, 4.0, 1.5, 1.5, 2.5, 2.5, 2.0, 1.5, 1.0, 2.5, 2.0, 3.0, 2.5, 0.0, 4.0, 2.5, 2.0, 3.0, 1.0, 3.5, 1.5, 3.0, 3.0, 3.0, 3.0, 3.5, 3.5, 2.5, 4.0, 3.5, 3.0, 3.0, 2.5, 3.0, 4.0, 1.5, 2.0, 2.0, 2.0, 2.5, 3.0, 4.0, 3.0, 2.5, 3.5, 2.0, 2.0, 2.0, 3.0, 4.0, 3.0, 2.5, 3.5, 3.0, 1.5, 3.5, 3.0, 3.0, 4.0, 4.0, 4.0, 4.0, 4.0, 3.0, 4.0, 3.5, 3.5, 2.5, 3.5, 4.0, 1.0, 3.5, 3.5, 4.5, 3.5, 3.0, 3.0, 3.0, 2.0, 3.5, 3.5, 4.0, 3.0, 4.0, 2.0, 3.0, 2.5, 3.5, 4.0, 3.0, 4.0, 4.0, 3.5, 4.0, 3.5, 3.0, 2.0, 3.0, 4.5, 3.0, 4.0, 4.0, 3.5, 3.0, 3.5, 3.5, 4.0, 2.5, 3.0, 4.0, 4.0, 4.5, 3.5, 4.0, 4.0, 2.5, 2.5, 2.5, 2.5, 2.0, 4.5, 2.5, 4.0, 3.5, 4.5, 4.0, 3.5, 3.0, 3.5, 3.5, 4.5, 4.5, 0.5, 3.5, 3.5, 3.5, 4.0, 3.0, 3.5, 3.5, 4.5, 3.5, 4.5, 4.5, 4.0, 4.5, 3.5, 4.0, 3.5, 2.5, 3.5, 2.5, 3.0, 4.5, 3.5, 3.5, 4.0, 3.5, 2.5, 3.0, 3.5, 4.0, 3.5, 3.0, 2.5, 3.5, 3.0, 3.5, 3.5, 3.0, 4.5, 4.5, 3.5, 3.5, 3.5, 3.5, 4.5, 3.5, 4.5, 3.0, 3.5, 2.0, 3.0, 4.0, 4.0, 2.5, 4.0, 4.0, 3.0, 4.0, 3.5, 4.5, 3.5, 2.5, 3.5, 4.5, 4.0, 3.5, 2.0, 3.0, 3.0, 2.5, 3.5, 3.0, 3.5, 3.0, 4.0, 3.5, 3.5, 2.0, 3.0, 3.5, 3.5, 3.5, 3.0, 4.0, 2.5, 1.0, 2.5, 5.0, 1.5, 1.5, 4.0, 3.5, 2.5, 5.0, 1.0, 2.0, 2.5, 2.0, 2.5, 1.5, 1.5, 3.5, 5.0, 5.0, 4.0, 3.0, 5.0, 5.0, 2.0, 3.5, 3.0, 3.5, 3.5, 3.5, 3.5, 4.0, 3.5, 3.5, 4.0, 2.5, 3.0, 2.0, 2.5, 2.5, 3.5, 3.0, 4.0, 4.0, 4.0, 3.5, 3.5, 3.5, 4.0, 1.5, 4.0, 3.0, 3.0, 3.5, 2.5, 2.5, 3.0, 4.0, 2.5, 1.5, 4.0, 3.0, 3.5, 2.0, 3.0, 2.0, 3.5, 2.5, 2.5, 2.0, 2.5, 3.0, 2.0, 3.0, 3.5, 4.5, 4.5, 3.0, 2.5, 2.0, 3.0, 4.0, 2.0, 3.0, 3.0, 3.0, 4.0, 3.5, 3.5, 3.5, 4.0, 3.5, 3.5, 4.0, 3.5, 4.0, 3.5, 4.0, 3.5, 3.5, 3.5, 3.5, 3.5, 3.5, 3.5, 3.5, 3.5, 4.0, 3.5, 3.5, 3.5, 3.0, 3.5, 3.5, 3.5, 4.0, 4.5, 3.0, 4.0, 4.0, 3.0, 3.5, 3.5, 4.0, 4.0, 4.0, 3.5, 3.5, 3.0, 3.5, 3.5, 3.5, 3.5, 3.5, 3.5, 3.5, 4.5, 2.5, 3.0, 3.5, 4.0, 3.0, 3.5, 3.5, 2.5, 2.0, 4.0, 2.5, 3.0, 2.5, 2.5, 4.0, 2.5, 3.5, 3.5, 3.5, 2.5, 2.5, 3.5, 2.0, 2.5, 4.0, 3.0, 2.5, 2.5, 3.0, 1.0, 2.0, 2.5, 3.5, 3.5, 3.5, 3.0, 3.0, 4.0, 2.5, 3.5, 4.0, 3.0, 4.0, 2.5, 2.5, 3.0, 3.0, 2.5, 2.5, 2.0, 4.0, 3.0, 3.0, 3.0, 4.0, 3.0, 3.5, 3.0, 4.0, 3.0, 5.0, 5.0, 4.5, 4.5, 4.5, 4.5, 3.5, 4.5, 4.5, 4.5, 4.0, 4.5, 4.5, 5.0, 4.0, 5.0, 4.5, 4.5, 4.5, 4.5, 4.5, 4.5, 5.0, 5.0, 4.0, 4.0, 4.5, 4.0, 5.0, 4.5, 4.5, 4.0, 3.5, 4.0, 3.5, 4.5, 4.5, 4.5, 4.0, 4.0, 4.0, 4.5, 3.5, 4.5, 5.0, 4.0, 4.0, 4.0, 4.0, 5.0, 4.0, 3.5, 4.0, 4.0, 4.0, 4.5, 4.0, 3.5, 2.0, 4.0, 3.5, 3.5, 3.0, 3.5, 3.5, 3.5, 2.5, 2.5, 3.0, 4.0, 3.5, 4.0, 4.5, 3.5, 2.5, 4.0, 2.0, 3.0, 4.0, 4.0, 3.5, 4.0, 2.5, 4.0, 3.5, 4.0, 4.0, 3.5, 1.5, 4.0, 4.5, 3.0, 3.5, 3.5, 4.0, 3.0, 3.5, 4.0, 4.5, 3.5, 2.5, 2.0, 4.0, 2.5, 3.5, 4.0, 5.0, 4.5, 4.0, 3.0, 4.0, 4.5, 3.5, 4.5, 4.0, 3.5, 4.5, 4.5, 4.5, 3.5, 4.0, 4.0, 5.0, 4.5, 3.5, 4.5, 4.5, 4.5, 4.5, 4.5, 2.5, 4.5, 2.0, 5.0, 3.0, 2.5, 2.5, 4.5, 2.5, 4.5, 3.0, 3.0, 3.0, 4.0, 4.0, 3.0, 2.5, 3.5, 4.5, 4.0, 3.0, 4.5, 4.0, 3.0, 3.5, 3.0, 4.5, 5.0, 4.0, 4.0, 5.0, 3.0, 3.5, 4.0, 4.0, 4.0, 4.0, 3.5, 2.0, 4.0, 4.0, 5.0, 3.5, 4.0, 4.0, 4.0, 4.0, 4.0, 5.0, 5.0, 4.0, 3.0, 3.5, 3.0, 3.5, 4.0, 3.5, 3.5, 3.5, 3.0, 3.5, 3.5, 2.5, 3.0, 3.5, 3.0, 3.5, 3.5, 3.0, 3.5, 4.0, 3.0, 3.0, 2.5, 4.0, 3.5, 3.5, 3.5, 1.5, 2.0, 2.5, 2.0, 3.0, 2.5, 1.5, 2.5, 1.5, 1.5, 2.0, 2.5, 2.0, 1.5, 2.5, 2.0, 3.0, 2.5, 2.5, 3.0, 2.5, 2.5, 3.0, 2.0, 1.5, 2.0, 3.5, 3.5, 3.5, 3.0, 3.5, 3.0, 2.5, 3.0, 2.5, 3.0, 3.0, 2.5, 2.5, 3.0, 3.5, 3.5, 2.5, 4.0, 3.0, 3.5, 2.5, 3.0, 3.5, 3.0, 4.0, 3.0, 2.5, 2.0, 2.0, 3.5, 4.0, 2.5, 3.0, 1.5, 2.0, 3.5, 2.5, 2.5, 3.0, 3.0, 4.0, 2.5, 2.0, 3.0, 3.0, 3.0, 3.5, 3.5, 2.0, 2.5, 3.5, 1.0, 2.5, 4.0, 1.5, 4.0, 3.0, 4.0, 4.5, 3.0, 1.5, 4.5, 3.5, 4.0, 3.0, 3.5, 3.5, 2.0, 3.0, 1.5, 5.0, 3.5, 2.5, 4.0, 3.5, 3.5, 4.0, 3.0, 3.0, 3.0, 2.0, 3.5, 1.5, 3.0, 2.0, 3.0, 2.0, 2.5, 2.0, 2.0, 1.5, 2.5, 2.5, 2.5, 3.0, 3.0, 3.0, 3.0, 2.0, 3.0, 3.0, 2.5, 2.5, 1.5, 3.0, 3.5, 3.5, 3.5, 4.0, 3.0, 3.0, 4.0, 3.5, 3.5, 3.5, 3.5, 4.0, 3.5, 3.0, 3.5, 2.5, 4.0, 3.0, 3.5, 3.5, 4.0, 2.5, 3.5, 4.0, 2.0, 3.5, 4.5, 2.5, 4.5, 4.0, 4.0, 2.0, 3.5, 4.5, 3.0, 3.5, 4.0, 4.0, 3.5, 4.0, 4.0, 4.5, 4.0, 3.0, 4.0, 4.0, 2.5, 4.5, 4.0, 3.0, 3.0, 4.0, 3.0, 2.5, 5.0, 4.5, 5.0, 3.5, 2.5, 4.5, 5.0, 5.0, 5.0, 4.0, 5.0, 5.0, 2.5, 5.0, 3.0, 3.0, 5.0, 3.5, 2.5, 5.0, 3.0, 5.0, 5.0, 2.5, 2.0, 3.5, 4.0, 3.0, 3.5, 3.5, 4.0, 3.0, 3.5, 3.5, 3.0, 3.5, 3.0, 4.0, 3.5, 3.0, 3.5, 3.5, 3.5, 3.0, 3.5, 3.5, 3.0, 3.5, 3.0, 3.5, 3.0, 3.0, 4.0, 4.0, 4.0, 4.0, 4.0, 4.0, 2.5, 4.0, 4.0, 3.5, 4.0, 4.0, 3.5, 3.5, 3.5, 4.0, 3.5, 3.5, 2.0, 3.5, 3.5, 2.0, 2.5, 3.5, 4.0, 4.0, 3.5, 3.5, 4.5, 2.5, 3.5, 4.0, 3.0, 4.5, 3.5, 3.5, 3.5, 4.0, 4.0, 3.5, 3.0, 3.0, 4.5, 4.0, 4.0, 3.0, 3.0, 3.5, 4.5, 2.5, 3.0, 3.0, 4.0, 2.5, 3.0, 3.0, 3.5, 4.0, 3.0, 3.5, 3.5, 3.5, 3.5, 2.5, 2.0, 4.5, 4.0, 3.5, 4.0, 3.0, 2.5, 3.5, 2.5, 3.5, 4.5, 2.0, 3.0, 2.5, 3.5, 1.5, 2.0, 2.5, 2.5, 3.0, 3.5, 4.0, 3.0, 3.0, 3.0, 2.5, 3.0, 2.5, 2.5, 3.0, 3.0, 3.0, 3.0, 3.5, 3.5, 3.5, 3.0, 3.5, 3.0, 4.0, 3.5, 3.0, 3.0, 2.0, 2.5, 3.0, 2.0, 4.0, 5.0, 5.0, 3.0, 2.5, 3.5, 5.0, 5.0, 5.0, 5.0, 5.0, 4.0, 5.0, 5.0, 4.5, 5.0, 2.5, 2.5, 5.0, 5.0, 5.0, 5.0, 5.0, 3.5, 3.5, 3.0, 3.5, 3.0, 3.0, 2.5, 3.5, 3.0, 3.5, 2.5, 3.5, 3.5, 3.0, 3.0, 3.0, 3.5, 3.0, 2.5, 3.5, 3.5, 3.0, 3.0, 3.0, 3.0, 3.0, 3.0, 2.5, 2.5, 2.5, 4.0, 3.0, 4.0, 3.5, 4.0, 3.5, 3.5, 3.5, 3.5, 4.0, 3.0, 3.5, 3.5, 3.5, 3.5, 3.5, 3.5, 3.5, 3.5, 4.0, 3.0, 3.5, 3.5, 4.0, 3.0, 5.0, 3.5, 2.0, 2.0, 2.0, 3.5, 5.0, 2.0, 2.5, 4.5, 5.0, 5.0, 5.0, 5.0, 2.5, 5.0, 5.0, 3.0, 5.0, 3.0, 2.5, 1.5, 5.0, 5.0, 5.0, 5.0, 5.0, 4.0, 4.5, 4.5, 2.0, 3.5, 4.5, 3.5, 4.0, 4.5, 4.0, 4.0, 2.5, 3.5, 3.0, 4.0, 4.5, 4.0, 2.5, 4.0, 3.0, 2.0, 4.0, 3.5, 2.5, 2.0, 2.5, 3.5, 4.0, 3.0, 3.5, 2.5, 3.0, 2.5, 2.5, 3.0, 2.0, 1.5, 2.0, 4.0, 3.0, 2.5, 2.5, 2.5, 2.0, 4.0, 1.5, 2.5, 2.0, 3.5, 4.5, 5.0, 4.5, 4.5, 5.0, 2.0, 2.5, 3.0, 3.0, 4.5, 3.5, 4.0, 5.0, 5.0, 4.5, 3.5, 3.5, 4.5, 4.5, 5.0, 4.5, 4.5, 2.5, 4.0, 3.0, 3.5, 3.5, 4.5, 4.5, 4.0, 4.0, 4.5, 3.0, 4.0, 4.0, 2.5, 4.5, 3.5, 3.5, 4.5, 3.5, 3.5, 3.0, 3.5, 3.0, 3.5, 3.0, 3.5, 3.5, 3.5, 3.5, 2.5, 3.5, 3.5, 2.0, 3.5, 3.0, 3.5, 3.0, 2.5, 4.0, 3.5, 3.0, 4.0, 3.0, 4.0, 4.0, 3.5, 3.5, 4.0, 2.0, 3.5, 2.5, 3.0, 3.0, 3.0, 2.5, 4.5, 3.0, 4.5, 2.5, 3.5, 2.5, 1.5, 3.5, 3.5, 3.0, 4.5, 4.5, 3.5, 3.0, 3.5, 3.5, 3.5, 3.5, 2.5, 2.0, 1.5, 4.0, 2.0, 2.0, 3.0, 4.0, 1.5, 2.0, 1.5, 1.5, 2.0, 2.0, 1.5, 2.0, 2.5, 1.5, 3.0, 2.0, 2.0, 4.0, 4.0, 1.0, 3.0, 4.0, 2.5, 4.0, 5.0, 3.5, 4.5, 4.0, 4.5, 4.0, 4.0, 4.5, 3.0, 3.5, 3.0, 3.0, 4.5, 4.0, 5.0, 5.0, 4.5, 4.5, 3.5, 2.5, 2.5, 4.0, 4.5, 3.5, 4.0, 4.0, 4.0, 4.5, 4.0, 4.0, 4.5, 3.0, 5.0, 4.5, 4.5, 4.5, 3.0, 5.0, 3.0, 4.0, 2.5, 2.5, 5.0, 4.5, 5.0, 2.0, 4.5, 5.0, 4.5, 2.5, 2.5, 4.5, 5.0, 5.0, 3.0, 4.0, 2.0, 3.0, 2.0, 4.0, 4.0, 3.5, 3.0, 4.0, 3.5, 3.0, 2.5, 3.0, 2.5, 3.5, 3.0, 2.0, 3.5, 4.5, 3.0, 3.0, 3.0, 4.0, 3.5, 3.0, 5.0, 3.5, 3.0, 3.5, 2.5, 3.5, 4.5, 4.0, 4.5, 4.0, 4.5, 3.5, 4.5, 4.0, 2.5, 4.5, 4.0, 4.0, 3.0, 4.0, 4.5, 3.0, 4.5, 3.5, 4.5, 4.0, 4.5, 4.0, 4.5, 4.0, 4.5, 4.0, 4.5, 4.5, 4.0, 4.0, 2.0, 4.0, 2.0, 3.0, 3.0, 4.0, 2.0, 4.0, 3.0, 4.0, 3.0, 4.0, 3.0, 2.5, 3.0, 1.5, 4.0, 3.5, 2.0, 3.5, 3.5, 3.0, 4.0, 1.5, 2.5, 2.5, 3.0, 3.5, 3.0, 3.5, 3.5, 2.0, 2.5, 2.5, 3.0, 5.0, 1.5, 1.5, 4.5, 4.0, 2.0, 1.5, 5.0, 2.5, 1.5, 3.5, 4.5, 4.0, 5.0, 2.5, 3.5, 3.5, 2.5, 1.5, 5.0, 3.5, 4.0, 4.0, 5.0, 2.5, 3.0, 3.0, 3.5, 3.5, 3.0, 4.0, 3.5, 3.0, 3.0, 3.5, 3.5, 3.5, 3.0, 3.5, 3.0, 3.0, 3.5, 4.0, 3.5, 3.5, 4.0, 3.5, 2.5, 3.5, 3.0, 3.0, 3.5, 3.5, 4.0, 3.0, 4.0, 3.5, 3.5, 4.0, 2.5, 3.5, 3.5, 3.5, 3.0, 4.0, 3.5, 3.0, 3.0, 3.0, 3.5, 4.0, 3.0, 2.5, 4.0, 4.0, 3.0, 3.0, 3.0, 3.0, 3.0, 3.5, 4.0, 3.5, 4.5, 2.5, 3.0, 4.0, 3.5, 3.5, 3.5, 4.0, 4.0, 3.5, 4.0, 3.0, 4.0, 4.0, 4.5, 4.0, 4.0, 3.5, 3.0, 4.0, 4.0, 3.5, 4.0, 3.5, 4.0, 4.0, 4.0, 3.5, 3.0, 3.0, 4.0, 3.5, 4.0, 4.0, 4.5, 4.5, 4.0, 4.0, 4.0, 4.0, 2.0, 4.5, 3.5, 4.5, 4.0, 4.0, 4.0, 4.0, 4.5, 4.0, 4.5, 4.5, 4.5, 4.5, 4.5, 4.0, 4.0, 4.5, 4.5, 4.5, 4.0, 4.0, 4.0, 4.0, 3.5, 4.0, 3.5, 4.0, 4.0, 3.5, 3.5, 4.0, 2.5, 4.0, 3.0, 3.5, 4.0, 4.0, 4.0, 3.5, 4.0, 4.0, 4.0, 2.5, 4.0, 4.0, 3.5, 4.0, 4.0, 2.5, 2.5, 1.0, 2.5, 3.5, 3.5, 3.5, 2.0, 1.0, 3.5, 3.5, 3.0, 1.5, 4.0, 2.5, 3.5, 3.0, 3.0, 3.0, 2.0, 3.5, 3.5, 3.5, 2.5, 4.0, 2.0, 3.5, 3.5, 4.0, 3.5, 3.5, 3.0, 3.0, 3.0, 3.5, 3.5, 3.5, 3.5, 3.0, 3.5, 3.0, 3.5, 3.0, 3.5, 3.0, 3.0, 3.0, 3.0, 3.0, 3.0, 4.0, 3.5, 3.5, 4.0, 3.5, 3.0, 3.5, 3.5, 2.0, 2.0, 4.0, 2.0, 3.0, 2.5, 3.5, 3.5, 2.5, 1.0, 2.0, 4.0, 2.5, 3.0, 1.5, 3.0, 2.5, 2.5, 4.5, 1.5, 3.0, 4.0, 2.0, 4.5, 1.5, 0.5, 2.5, 4.0, 4.0, 2.5, 4.0, 3.5, 3.0, 4.0, 4.0, 3.5, 4.0, 2.5, 4.0, 4.0, 3.0, 3.5, 3.5, 3.5, 4.0, 4.0, 4.0, 3.5, 4.0, 3.5, 4.0, 3.5, 2.5, 4.5, 3.0, 5.0, 2.5, 5.0, 4.5, 5.0, 3.0, 5.0, 5.0, 5.0, 3.0, 5.0, 4.0, 5.0, 2.0, 5.0, 4.5, 5.0, 2.5, 2.5, 5.0, 3.0, 2.5, 4.5, 3.5, 5.0, 5.0, 2.0, 5.0, 4.0, 4.0, 1.0, 2.0, 3.0, 1.0, 2.5, 3.0, 3.0, 3.0, 2.0, 2.5, 3.0, 3.0, 1.5, 3.5, 2.0, 2.5, 3.5, 4.5, 3.5, 4.0, 0.5, 3.5, 2.5, 4.5, 3.5, 3.0, 3.5, 3.5, 4.0, 3.0, 3.5, 4.0, 3.0, 3.0, 3.5, 3.5, 3.0, 3.5, 3.0, 3.5, 3.0, 3.0, 4.0, 3.5, 3.0, 3.5, 3.5, 3.5, 1.5, 2.0, 3.5, 3.5, 3.5, 3.0, 2.0, 3.0, 4.5, 4.0, 1.5, 2.0, 1.5, 2.0, 2.0, 1.5, 2.5, 2.0, 2.0, 1.0, 2.5, 2.5, 2.5, 2.0, 2.0, 3.0, 3.5, 2.0, 1.5, 2.0, 1.5, 2.0, 3.5, 1.5]\n"
     ]
    }
   ],
   "source": [
    "pred_scores_rounded=[round(i* 2) / 2 for i in pred_scores]\n",
    "print(pred_scores_rounded)"
   ]
  },
  {
   "cell_type": "code",
   "execution_count": 12,
   "metadata": {},
   "outputs": [
    {
     "data": {
      "text/plain": [
       "0.3702795947969567"
      ]
     },
     "execution_count": 12,
     "metadata": {},
     "output_type": "execute_result"
    }
   ],
   "source": [
    "mean_squared_error(scores_average,pred_scores)/5"
   ]
  }
 ],
 "metadata": {
  "kernelspec": {
   "display_name": "Python 3",
   "language": "python",
   "name": "python3"
  },
  "language_info": {
   "codemirror_mode": {
    "name": "ipython",
    "version": 3
   },
   "file_extension": ".py",
   "mimetype": "text/x-python",
   "name": "python",
   "nbconvert_exporter": "python",
   "pygments_lexer": "ipython3",
   "version": "3.10.9"
  },
  "orig_nbformat": 4,
  "vscode": {
   "interpreter": {
    "hash": "68f3d444a97834fdcecf1ef2cf151aee5d471a83817d14b79d90b41a8e3b4a5b"
   }
  }
 },
 "nbformat": 4,
 "nbformat_minor": 2
}
